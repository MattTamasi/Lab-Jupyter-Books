{
 "cells": [
  {
   "cell_type": "code",
   "execution_count": 5,
   "metadata": {},
   "outputs": [],
   "source": [
    "import qgrid\n",
    "import pandas as pd\n",
    "import numpy as np"
   ]
  },
  {
   "cell_type": "code",
   "execution_count": 9,
   "metadata": {},
   "outputs": [],
   "source": [
    "df2 = pd.DataFrame({\n",
    "    'A' : 1.,\n",
    "    'B' : pd.Timestamp('20130102'),\n",
    "    'C' : pd.Series(np.random.randn(8),index=list(range(8)),dtype='float32'),\n",
    "    'D' : np.array([3] * 8,dtype='int32'),\n",
    "    'E' : pd.Categorical([\"test\",\"train\",\"test\",\"train\", \"test\", \"train\", \"test\", \"train\"]),\n",
    "    'F' : 'foo' })"
   ]
  },
  {
   "cell_type": "code",
   "execution_count": 10,
   "metadata": {},
   "outputs": [
    {
     "data": {
      "text/html": [
       "<div>\n",
       "<style scoped>\n",
       "    .dataframe tbody tr th:only-of-type {\n",
       "        vertical-align: middle;\n",
       "    }\n",
       "\n",
       "    .dataframe tbody tr th {\n",
       "        vertical-align: top;\n",
       "    }\n",
       "\n",
       "    .dataframe thead th {\n",
       "        text-align: right;\n",
       "    }\n",
       "</style>\n",
       "<table border=\"1\" class=\"dataframe\">\n",
       "  <thead>\n",
       "    <tr style=\"text-align: right;\">\n",
       "      <th></th>\n",
       "      <th>A</th>\n",
       "      <th>B</th>\n",
       "      <th>C</th>\n",
       "      <th>D</th>\n",
       "      <th>E</th>\n",
       "      <th>F</th>\n",
       "    </tr>\n",
       "  </thead>\n",
       "  <tbody>\n",
       "    <tr>\n",
       "      <th>0</th>\n",
       "      <td>1.0</td>\n",
       "      <td>2013-01-02</td>\n",
       "      <td>0.004088</td>\n",
       "      <td>3</td>\n",
       "      <td>test</td>\n",
       "      <td>foo</td>\n",
       "    </tr>\n",
       "    <tr>\n",
       "      <th>1</th>\n",
       "      <td>1.0</td>\n",
       "      <td>2013-01-02</td>\n",
       "      <td>1.198567</td>\n",
       "      <td>3</td>\n",
       "      <td>train</td>\n",
       "      <td>foo</td>\n",
       "    </tr>\n",
       "    <tr>\n",
       "      <th>2</th>\n",
       "      <td>1.0</td>\n",
       "      <td>2013-01-02</td>\n",
       "      <td>1.383163</td>\n",
       "      <td>3</td>\n",
       "      <td>test</td>\n",
       "      <td>foo</td>\n",
       "    </tr>\n",
       "    <tr>\n",
       "      <th>3</th>\n",
       "      <td>1.0</td>\n",
       "      <td>2013-01-02</td>\n",
       "      <td>-0.864921</td>\n",
       "      <td>3</td>\n",
       "      <td>train</td>\n",
       "      <td>foo</td>\n",
       "    </tr>\n",
       "    <tr>\n",
       "      <th>4</th>\n",
       "      <td>1.0</td>\n",
       "      <td>2013-01-02</td>\n",
       "      <td>-0.822337</td>\n",
       "      <td>3</td>\n",
       "      <td>test</td>\n",
       "      <td>foo</td>\n",
       "    </tr>\n",
       "    <tr>\n",
       "      <th>5</th>\n",
       "      <td>1.0</td>\n",
       "      <td>2013-01-02</td>\n",
       "      <td>-1.410576</td>\n",
       "      <td>3</td>\n",
       "      <td>train</td>\n",
       "      <td>foo</td>\n",
       "    </tr>\n",
       "    <tr>\n",
       "      <th>6</th>\n",
       "      <td>1.0</td>\n",
       "      <td>2013-01-02</td>\n",
       "      <td>-0.449492</td>\n",
       "      <td>3</td>\n",
       "      <td>test</td>\n",
       "      <td>foo</td>\n",
       "    </tr>\n",
       "    <tr>\n",
       "      <th>7</th>\n",
       "      <td>1.0</td>\n",
       "      <td>2013-01-02</td>\n",
       "      <td>-0.637450</td>\n",
       "      <td>3</td>\n",
       "      <td>train</td>\n",
       "      <td>foo</td>\n",
       "    </tr>\n",
       "  </tbody>\n",
       "</table>\n",
       "</div>"
      ],
      "text/plain": [
       "     A          B         C  D      E    F\n",
       "0  1.0 2013-01-02  0.004088  3   test  foo\n",
       "1  1.0 2013-01-02  1.198567  3  train  foo\n",
       "2  1.0 2013-01-02  1.383163  3   test  foo\n",
       "3  1.0 2013-01-02 -0.864921  3  train  foo\n",
       "4  1.0 2013-01-02 -0.822337  3   test  foo\n",
       "5  1.0 2013-01-02 -1.410576  3  train  foo\n",
       "6  1.0 2013-01-02 -0.449492  3   test  foo\n",
       "7  1.0 2013-01-02 -0.637450  3  train  foo"
      ]
     },
     "execution_count": 10,
     "metadata": {},
     "output_type": "execute_result"
    }
   ],
   "source": [
    "df2"
   ]
  },
  {
   "cell_type": "code",
   "execution_count": 11,
   "metadata": {},
   "outputs": [
    {
     "data": {
      "application/vnd.jupyter.widget-view+json": {
       "model_id": "df32eb7c3d1e45d08ea311980ef0c546",
       "version_major": 2,
       "version_minor": 0
      },
      "text/plain": [
       "QgridWidget(grid_options={'fullWidthRows': True, 'syncColumnCellResize': True, 'forceFitColumns': True, 'defau…"
      ]
     },
     "metadata": {},
     "output_type": "display_data"
    }
   ],
   "source": [
    "from IPython.display import display\n",
    "grid = qgrid.QGridWidget(df=df2)\n",
    "display(grid)"
   ]
  },
  {
   "cell_type": "code",
   "execution_count": null,
   "metadata": {},
   "outputs": [],
   "source": []
  }
 ],
 "metadata": {
  "kernelspec": {
   "display_name": "Python 3",
   "language": "python",
   "name": "python3"
  },
  "language_info": {
   "codemirror_mode": {
    "name": "ipython",
    "version": 3
   },
   "file_extension": ".py",
   "mimetype": "text/x-python",
   "name": "python",
   "nbconvert_exporter": "python",
   "pygments_lexer": "ipython3",
   "version": "3.6.5"
  },
  "widgets": {
   "application/vnd.jupyter.widget-state+json": {
    "state": {
     "df32eb7c3d1e45d08ea311980ef0c546": {
      "model_module": "qgrid",
      "model_module_version": "1.1.1",
      "model_name": "QgridModel",
      "state": {
       "_columns": {
        "A": {
         "cssClass": "number",
         "field": "A",
         "id": "A",
         "name": "A",
         "position": 2,
         "type": "number"
        },
        "B": {
         "cssClass": "datetime",
         "field": "B",
         "id": "B",
         "name": "B",
         "position": 3,
         "type": "datetime"
        },
        "C": {
         "cssClass": "number",
         "field": "C",
         "id": "C",
         "name": "C",
         "position": 4,
         "type": "number"
        },
        "D": {
         "cssClass": "integer",
         "field": "D",
         "id": "D",
         "name": "D",
         "position": 5,
         "type": "integer"
        },
        "E": {
         "constraints": {
          "enum": [
           "test",
           "train"
          ]
         },
         "cssClass": "any",
         "editorOptions": {
          "options": [
           "test",
           "train"
          ]
         },
         "field": "E",
         "id": "E",
         "name": "E",
         "ordered": false,
         "position": 6,
         "type": "any"
        },
        "F": {
         "cssClass": "string",
         "field": "F",
         "id": "F",
         "name": "F",
         "position": 7,
         "type": "string"
        },
        "index": {
         "cssClass": "integer first-idx-col idx-col",
         "field": "index",
         "first_index": true,
         "id": "index",
         "index_display_text": "",
         "is_index": true,
         "level": 0,
         "name": "",
         "position": 0,
         "type": "integer"
        },
        "qgrid_unfiltered_index": {
         "cssClass": "integer",
         "field": "qgrid_unfiltered_index",
         "id": "qgrid_unfiltered_index",
         "name": "qgrid_unfiltered_index",
         "position": 1,
         "type": "integer"
        }
       },
       "_df_json": "{\"schema\": {\"fields\":[{\"name\":\"index\",\"type\":\"integer\"},{\"name\":\"qgrid_unfiltered_index\",\"type\":\"integer\"},{\"name\":\"A\",\"type\":\"number\"},{\"name\":\"B\",\"type\":\"datetime\"},{\"name\":\"C\",\"type\":\"number\"},{\"name\":\"D\",\"type\":\"integer\"},{\"name\":\"E\",\"type\":\"any\",\"constraints\":{\"enum\":[\"test\",\"train\"]},\"ordered\":false},{\"name\":\"F\",\"type\":\"string\"}],\"primaryKey\":[\"index\"],\"pandas_version\":\"0.20.0\"}, \"data\": [{\"index\":0,\"qgrid_unfiltered_index\":0,\"A\":1.0,\"B\":\"2013-01-02T00:00:00.000Z\",\"C\":0.00409,\"D\":3,\"E\":\"test\",\"F\":\"foo\"},{\"index\":1,\"qgrid_unfiltered_index\":1,\"A\":1.0,\"B\":\"2013-01-02T00:00:00.000Z\",\"C\":1.19857,\"D\":3,\"E\":\"train\",\"F\":\"foo\"},{\"index\":2,\"qgrid_unfiltered_index\":2,\"A\":1.0,\"B\":\"2013-01-02T00:00:00.000Z\",\"C\":1.38316,\"D\":3,\"E\":\"test\",\"F\":\"foo\"},{\"index\":3,\"qgrid_unfiltered_index\":3,\"A\":1.0,\"B\":\"2013-01-02T00:00:00.000Z\",\"C\":-0.86492,\"D\":3,\"E\":\"train\",\"F\":\"foo\"},{\"index\":4,\"qgrid_unfiltered_index\":4,\"A\":1.0,\"B\":\"2013-01-02T00:00:00.000Z\",\"C\":-0.82234,\"D\":3,\"E\":\"test\",\"F\":\"foo\"},{\"index\":5,\"qgrid_unfiltered_index\":5,\"A\":1.0,\"B\":\"2013-01-02T00:00:00.000Z\",\"C\":-1.41058,\"D\":3,\"E\":\"train\",\"F\":\"foo\"},{\"index\":6,\"qgrid_unfiltered_index\":6,\"A\":1.0,\"B\":\"2013-01-02T00:00:00.000Z\",\"C\":-0.44949,\"D\":3,\"E\":\"test\",\"F\":\"foo\"},{\"index\":7,\"qgrid_unfiltered_index\":7,\"A\":1.0,\"B\":\"2013-01-02T00:00:00.000Z\",\"C\":-0.63745,\"D\":3,\"E\":\"train\",\"F\":\"foo\"}]}",
       "_df_range": [
        0,
        100
       ],
       "_editable_rows": {},
       "_index_col_name": "qgrid_unfiltered_index",
       "_interval_columns": [],
       "_model_module_version": "1.1.1",
       "_multi_index": false,
       "_row_count": 8,
       "_row_styles": {},
       "_sort_ascending": true,
       "_sort_field": null,
       "_view_module_version": "1.1.1",
       "_viewport_range": [
        0,
        100
       ],
       "grid_options": {
        "autoEdit": false,
        "boldIndex": true,
        "defaultColumnWidth": 150,
        "editable": true,
        "enableColumnReorder": false,
        "enableTextSelectionOnCells": true,
        "explicitInitialization": true,
        "filterable": true,
        "forceFitColumns": true,
        "fullWidthRows": true,
        "highlightSelectedCell": false,
        "highlightSelectedRow": true,
        "maxVisibleRows": 15,
        "minVisibleRows": 8,
        "rowHeight": 28,
        "sortable": true,
        "syncColumnCellResize": true
       },
       "id": "9a21e342-8ea7-4d96-a5c2-eef8150d5b92",
       "layout": "IPY_MODEL_f28c3a72e694421bafd4463bfa71a996",
       "precision": 5,
       "show_toolbar": false
      }
     },
     "f28c3a72e694421bafd4463bfa71a996": {
      "model_module": "@jupyter-widgets/base",
      "model_module_version": "1.0.0",
      "model_name": "LayoutModel",
      "state": {}
     }
    },
    "version_major": 2,
    "version_minor": 0
   }
  }
 },
 "nbformat": 4,
 "nbformat_minor": 2
}
